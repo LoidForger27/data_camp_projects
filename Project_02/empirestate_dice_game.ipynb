{
 "cells": [
  {
   "cell_type": "markdown",
   "id": "0e101710",
   "metadata": {},
   "source": [
    "### 🏙️ Project 02 – Empire State Building Random Walk (Hacker Statistics)"
   ]
  },
  {
   "cell_type": "markdown",
   "id": "9e321591",
   "metadata": {},
   "source": [
    "<center><img src=\"empire_state1.jpeg\"></center>"
   ]
  },
  {
   "cell_type": "markdown",
   "id": "59eb021d",
   "metadata": {},
   "source": [
    "We simulate 100-step random walks 500 times to estimate the chance of ending at **≥ 60 steps**.\n",
    "\n",
    "**Rules**\n",
    "- Start at step 0 and never go below 0.\n",
    "- Each move (x 100):\n",
    "  - Roll 1–2 → step down 1\n",
    "  - Roll 3–5 → step up 1\n",
    "  - Roll 6 → roll again and step up by that new roll (1–6)\n",
    "- Clumsiness: each move has a **0.1%** chance to fall to step 0.\n",
    "\n",
    "We’ll plot the distribution of final steps and compute the winning probability."
   ]
  },
  {
   "cell_type": "code",
   "execution_count": 33,
   "id": "8d81d959",
   "metadata": {},
   "outputs": [],
   "source": [
    "import numpy as np\n",
    "import matplotlib.pyplot as plt\n",
    "\n",
    "np.random.seed(123)  # seed set for reproducibility"
   ]
  },
  {
   "cell_type": "markdown",
   "id": "d6de6194",
   "metadata": {},
   "source": [
    "#### Simulate random walk 500 times\n",
    "\n",
    "Collect all walks in `all_walks`. Each walk has 101 values (including the starting step `0`)."
   ]
  },
  {
   "cell_type": "code",
   "execution_count": 34,
   "id": "f76d29fa",
   "metadata": {},
   "outputs": [],
   "source": [
    "# Simulate random walk 500 times\n",
    "all_walks = []\n",
    "\n",
    "for i in range(500):\n",
    "    random_walk = [0]\n",
    "    for x in range(100):\n",
    "        step = random_walk[-1]\n",
    "        dice = np.random.randint(1, 7)\n",
    "\n",
    "        if dice <= 2:\n",
    "            step = max(0, step - 1)\n",
    "        elif dice <= 5:\n",
    "            step = step + 1\n",
    "        else:\n",
    "            step = step + np.random.randint(1, 7)  # bonus on 6\n",
    "\n",
    "        # 0.1% chance to fall back to 0\n",
    "        if np.random.rand() <= 0.001:\n",
    "            step = 0\n",
    "\n",
    "        random_walk.append(step)\n",
    "\n",
    "    # add this finished walk to the collection\n",
    "    all_walks.append(random_walk)"
   ]
  },
  {
   "cell_type": "markdown",
   "id": "2ac831f4",
   "metadata": {},
   "source": [
    "#### Create `np_aw_t` and extract final positions\n",
    "\n",
    "Transpose to shape `(101, n_walks)` so the **last row** holds the final steps of all walks."
   ]
  },
  {
   "cell_type": "code",
   "execution_count": 35,
   "id": "1c4cd7a1",
   "metadata": {},
   "outputs": [
    {
     "data": {
      "text/plain": [
       "(array([ 70,  94,  82,  66, 107,  49,  72, 116,  65,  78]), (500,))"
      ]
     },
     "execution_count": 35,
     "metadata": {},
     "output_type": "execute_result"
    }
   ],
   "source": [
    "np_aw_t = np.transpose(np.array(all_walks))  # shape: (101, 500)\n",
    "\n",
    "# Select last row: final positions for each walk\n",
    "ends = np_aw_t[-1, :]\n",
    "ends[:10], ends.shape"
   ]
  },
  {
   "cell_type": "markdown",
   "id": "d4cf224e",
   "metadata": {},
   "source": [
    "#### Plot histogram of final steps"
   ]
  },
  {
   "cell_type": "code",
   "execution_count": 36,
   "id": "050d3bdb",
   "metadata": {},
   "outputs": [
    {
     "data": {
      "image/png": "[encoded data removed]",
      "text/plain": [
       "<Figure size 700x400 with 1 Axes>"
      ]
     },
     "metadata": {},
     "output_type": "display_data"
    }
   ],
   "source": [
    "plt.figure(figsize=(7,4))\n",
    "plt.hist(ends, bins=30)\n",
    "plt.axvline(60, color='gray', linestyle='--', linewidth=1)\n",
    "plt.title('Distribution of Ending Steps (500 random walks)')\n",
    "plt.xlabel('Ending Step after 100 moves')\n",
    "plt.ylabel('Frequency')\n",
    "plt.show()"
   ]
  },
  {
   "cell_type": "markdown",
   "id": "1fdb633a",
   "metadata": {},
   "source": [
    "#### ✅ Result: Estimated Winning Chance\n",
    "\n",
    "**Question:** What’s the estimated chance you’ll reach at least 60 steps?  \n",
    "Using the simulated `ends` array (final positions of all random walks), compute:\n",
    "\n",
    "np.mean(ends >= 60) * 100\n",
    "\n",
    "This returns the percentage of simulations where the final step was ≥ 60, i.e., your estimated chance of winning the bet."
   ]
  },
  {
   "cell_type": "code",
   "execution_count": 37,
   "id": "9020bd14",
   "metadata": {},
   "outputs": [
    {
     "name": "stdout",
     "output_type": "stream",
     "text": [
      "Estimated chance of reaching ≥ 60 steps: 78.40%  (n=500)\n"
     ]
    }
   ],
   "source": [
    "\n",
    "#### Code — Probability\n",
    "prob_pct = np.mean(ends >= 60) * 100\n",
    "print(f\"Estimated chance of reaching ≥ 60 steps: {prob_pct:.2f}%  (n={ends.size})\")"
   ]
  }
 ],
 "metadata": {
  "kernelspec": {
   "display_name": "Python 3",
   "language": "python",
   "name": "python3"
  },
  "language_info": {
   "codemirror_mode": {
    "name": "ipython",
    "version": 3
   },
   "file_extension": ".py",
   "mimetype": "text/x-python",
   "name": "python",
   "nbconvert_exporter": "python",
   "pygments_lexer": "ipython3",
   "version": "3.11.9"
  }
 },
 "nbformat": 4,
 "nbformat_minor": 5
}

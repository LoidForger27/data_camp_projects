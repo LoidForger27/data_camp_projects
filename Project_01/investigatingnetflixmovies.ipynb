{
 "cells": [
  {
   "cell_type": "markdown",
   "id": "5067b1ca",
   "metadata": {},
   "source": [
    "<center><img src=\"redpopcorn.jpg\"></center>"
   ]
  },
  {
   "cell_type": "markdown",
   "id": "2c2e976b",
   "metadata": {},
   "source": [
    "**Netflix**! What started in 1997 as a DVD rental service has since exploded into one of the largest entertainment and media companies.\n",
    "\n",
    "Given the large number of movies and series available on the platform, it is a perfect opportunity to flex your exploratory data analysis skills and dive into the entertainment industry.\n",
    "\n",
    "You work for a production company that specializes in nostalgic styles. You want to do some research on movies released in the 1990's. You'll delve into Netflix data and perform exploratory data analysis to better understand this awesome movie decade!\n",
    "\n",
    "You have been supplied with the dataset `netflix_data.csv`, along with the following table detailing the column names and descriptions. Feel free to experiment further after submitting!\n",
    "\n",
    "## The Data\n",
    "#### **netflix_data.csv**\n",
    "| Column | Description |\n",
    "|--------|-------------|\n",
    "| `show_id` | The ID of the show |\n",
    "| `type` | Type of show |\n",
    "| `title` | Title of the show |\n",
    "| `director` | Director of the show |\n",
    "| `cast` | Cast of the show |\n",
    "| `country` | Country of origin |\n",
    "| `date_added` | Date added to Netflix |\n",
    "| `release_year` | Year of Netflix release |\n",
    "| `duration` | Duration of the show in minutes |\n",
    "| `description` | Description of the show |\n",
    "| `genre` | Show genre |"
   ]
  },
  {
   "cell_type": "code",
   "execution_count": null,
   "id": "7973232c",
   "metadata": {},
   "outputs": [],
   "source": [
    "# Importing pandas and matplotlib\n",
    "import pandas as pd\n",
    "import matplotlib.pyplot as plt\n",
    "\n",
    "# Read in the Netflix CSV as a DataFrame\n",
    "netflix_df = pd.read_csv(\"netflix_data.csv\")"
   ]
  },
  {
   "cell_type": "markdown",
   "id": "29931313",
   "metadata": {},
   "source": [
    "Subset the DataFrame for type \"Movie\""
   ]
  },
  {
   "cell_type": "code",
   "execution_count": null,
   "id": "b0b33414",
   "metadata": {},
   "outputs": [],
   "source": [
    "netflix_subset = netflix_df[netflix_df['type'] == 'Movie']"
   ]
  },
  {
   "cell_type": "markdown",
   "id": "97e549f7",
   "metadata": {},
   "source": [
    "Filter the data to keep only movies released in the 1990s\n",
    "Start by filtering out movies that were released in or after 1990"
   ]
  },
  {
   "cell_type": "code",
   "execution_count": null,
   "id": "54480829",
   "metadata": {},
   "outputs": [],
   "source": [
    "subset = netflix_subset[(netflix_subset[\"release_year\"] >= 1990)]"
   ]
  },
  {
   "cell_type": "markdown",
   "id": "9d449c7a",
   "metadata": {},
   "source": [
    "And then do the same to filter out movies released before 2000"
   ]
  },
  {
   "cell_type": "code",
   "execution_count": null,
   "id": "0f746d95",
   "metadata": {},
   "outputs": [],
   "source": [
    "movies_1990s = subset[(subset[\"release_year\"] < 2000)]"
   ]
  },
  {
   "cell_type": "markdown",
   "id": "3113d5cf",
   "metadata": {},
   "source": [
    "Visualize the duration column of your filtered data to see the distribution of movie durations\n",
    "See which bar is the highest and save the duration value, this doesn't need to be exact!"
   ]
  },
  {
   "cell_type": "code",
   "execution_count": null,
   "id": "ffd16f4a",
   "metadata": {},
   "outputs": [],
   "source": [
    "plt.hist(movies_1990s['duration'])\n",
    "plt.title('Distribution of Movie Durations in the 1990s')\n",
    "plt.xlabel('Duration (minutes)')\n",
    "plt.ylabel('Number of Movies')\n",
    "plt.show()\n",
    "\n",
    "duration = 100"
   ]
  },
  {
   "cell_type": "markdown",
   "id": "45f31955",
   "metadata": {},
   "source": [
    "Filter the data again to keep only the Action movies"
   ]
  },
  {
   "cell_type": "code",
   "execution_count": null,
   "id": "85296253",
   "metadata": {},
   "outputs": [],
   "source": [
    "action_movies_1990s = movies_1990s[movies_1990s[\"genre\"] == \"Action\"]"
   ]
  },
  {
   "cell_type": "markdown",
   "id": "36dd2173",
   "metadata": {},
   "source": [
    "Use a for loop and a counter to count how many short action movies there were in the 1990s"
   ]
  },
  {
   "cell_type": "code",
   "execution_count": null,
   "id": "2eefa8a8",
   "metadata": {},
   "outputs": [],
   "source": [
    "# Start the counter\n",
    "short_movie_count = 0"
   ]
  },
  {
   "cell_type": "markdown",
   "id": "d6b20332",
   "metadata": {},
   "source": [
    "Iterate over the labels and rows of the DataFrame and check if the duration is less than 90, if it is, add 1 to the counter, if it isn't, the counter should remain the same"
   ]
  },
  {
   "cell_type": "code",
   "execution_count": null,
   "id": "2857d117",
   "metadata": {},
   "outputs": [],
   "source": [
    "for label, row in action_movies_1990s.iterrows() :\n",
    "    if row[\"duration\"] < 90 :\n",
    "        short_movie_count = short_movie_count + 1\n",
    "    else:\n",
    "        short_movie_count = short_movie_count\n",
    "\n",
    "print(short_movie_count)"
   ]
  },
  {
   "cell_type": "markdown",
   "id": "5f4dac94",
   "metadata": {},
   "source": [
    "A quicker way of counting values in a column is to use .sum() on the desired column"
   ]
  },
  {
   "cell_type": "code",
   "execution_count": null,
   "id": "eb362ac4",
   "metadata": {},
   "outputs": [],
   "source": [
    "(action_movies_1990s[\"duration\"] < 90).sum()"
   ]
  }
 ],
 "metadata": {
  "language_info": {
   "name": "python"
  }
 },
 "nbformat": 4,
 "nbformat_minor": 5
}
